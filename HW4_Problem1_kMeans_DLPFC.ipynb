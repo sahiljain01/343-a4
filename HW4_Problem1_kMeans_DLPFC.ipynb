{
  "nbformat": 4,
  "nbformat_minor": 0,
  "metadata": {
    "colab": {
      "provenance": [],
      "include_colab_link": true
    },
    "kernelspec": {
      "name": "python3",
      "display_name": "Python 3"
    },
    "language_info": {
      "name": "python"
    }
  },
  "cells": [
    {
      "cell_type": "markdown",
      "metadata": {
        "id": "view-in-github",
        "colab_type": "text"
      },
      "source": [
        "<a href=\"https://colab.research.google.com/github/sahiljain01/343-a4/blob/main/HW4_Problem1_kMeans_DLPFC.ipynb\" target=\"_parent\"><img src=\"https://colab.research.google.com/assets/colab-badge.svg\" alt=\"Open In Colab\"/></a>"
      ]
    },
    {
      "cell_type": "markdown",
      "source": [
        "# COS 343 Spring 2023\n",
        "\n",
        "**Princeton University**\n",
        "\n",
        "**Homework #4, Problem 1**\n",
        "\n",
        "Due 4/12/2023, 11:59pm (Princeton local time)\n",
        "\n",
        "Please see the assignment PDF for instructions on how to submit this notebook."
      ],
      "metadata": {
        "id": "uBBbIqoq3oTB"
      }
    },
    {
      "cell_type": "markdown",
      "source": [
        "# Introduction: Applying K-means on spatial transcriptomics data \n",
        "\n",
        "Spatial Transcriptomics (ST) is a sequencing technology that allows biologists to measure gene expression across thousands of spots on a tissue slice while simultaneously recording the two-dimensional (2D) coordinates of each spot. To conduct a spatial transcriptomics experiment, a thin tissue slice is placed on an array with a grid of spots, and the mRNA of cells within the spots is sequenced. The resulting data from a spatial transcriptomics experiment consists of a gene expression matrix, denoted by $X$, and a spatial location matrix, denoted by $Z$, where $X \\in \\mathbb{R}^{n \\times p}$ and $Z \\in \\mathbb{R}^{n \\times 2}$. $n$ is the number of spots on the slice and $p$ is the number of genes measured. The matrix $X$ contains the gene expression levels of each spot, where $x_{ij} \\in \\mathbb{R}$ is the expression level of gene $j$ in spot $i$. Each row vector $\\mathbf{x}_{i \\cdot}$ of $X$ represents the *expression profile* of spot $i$ and can be thought of as a feature vector of data point (spot) $i$. The matrix $Z$ contains the 2D coordinates of each spot on the tissue slice, where the $i$-th row $\\mathbf{z}_{i \\cdot}$ is the $x$-$y$ coordinate of spot $i$ on the tissue slice.\n",
        "\n",
        "In this problem, we will use the K-means algorithm to cluster the spots from a spatial transcriptomics analysis of a tissue slice from the human brain, specifically the dorsolateral prefrontal cortex (DLPFC). The DLPFC is organized into distinct layers, or regions, consisting of varying types of neural cells.  The dataset we use is from [Maynard et al. (2021)](https://www.nature.com/articles/s41593-020-00787-0), where the authors manually annotated each spot in the slice as belonging to one of 6 cortical layers or the white matter, as seen in the figure in the assignment PDF. We will use K-means to try to automatically detect the 7 clusters (6 cortical layers + 1 white matter) of spots based on the $p$-dimensional feature vector (expression profile) of each spot."
      ],
      "metadata": {
        "id": "f--Qvcjz39Od"
      }
    },
    {
      "cell_type": "markdown",
      "source": [
        "# Setting up data \n",
        "First, we load all the required libraries.\n",
        "\n",
        "The dataset contains two files: `DLPFC_spot_expression.npy` and `DLPFC_spot_location.npy`, both are numpy matrix files. The two files can be downloaded from `COS343_Spring2023_Public/Homeworks/Datasets`. Once downloaded, you need to move the two files into your own Google Drive. Then, after executing `drive.mount('/content/drive')` below, files in your Google Drive will be present in `/content/drive/MyDrive` and can be accessed by providing the path to them in your Drive."
      ],
      "metadata": {
        "id": "P5mPf7a-_fjO"
      }
    },
    {
      "cell_type": "code",
      "source": [
        "from google.colab import drive\n",
        "drive.mount('/content/drive')\n",
        "\n",
        "import numpy as np\n",
        "from sklearn.cluster import KMeans\n",
        "from scipy.spatial import distance\n",
        "import matplotlib.pyplot as plt\n",
        "import seaborn as sns\n",
        "\n",
        "import networkx as nx \n",
        "import networkx.algorithms.community as nx_comm"
      ],
      "metadata": {
        "id": "WcjN6hsEkFR6"
      },
      "execution_count": null,
      "outputs": []
    },
    {
      "cell_type": "markdown",
      "source": [
        "We now load in the gene expression matrix and the spatial location matrix. Modify the paths given to `np.load()` to the path of the two files in your own Drive.\n",
        "\n",
        "The gene expression matrix $X$ is of size $3635 \\times 50$, which means the slice has $3635$ spots, and the feature dimension of each spot is $50$. Notice that instead of the original gene expression profile of each spot, which is of dimension more than $10000$, we already did dimensionality reduction for you and reduced the dimension of the feature space to $50$.\n",
        "\n",
        "The location matrix $Z$ is of size $3635 \\times 2$, as explained above."
      ],
      "metadata": {
        "id": "DvRl6jRxCC1b"
      }
    },
    {
      "cell_type": "code",
      "source": [
        "X = np.load('/content/drive/MyDrive/PATH/TO/YOUR/DLPFC_spot_expression.npy')\n",
        "print(X.shape)\n",
        "Z = np.load('/content/drive/MyDrive/PATH/TO/YOUR/DLPFC_spot_location.npy')\n",
        "print(Z.shape)"
      ],
      "metadata": {
        "id": "uyH1cts0yHAL"
      },
      "execution_count": null,
      "outputs": []
    },
    {
      "cell_type": "markdown",
      "source": [
        "## 1. K-means initialization\n",
        "\n",
        "The first step in running K-means is to choose the $k$ initial centers. Implement the following function, which given a dataset $X$ and a number $k$, randomly pick $k$ data points from $X$ as the initial centers. First, randomly permute the indices of the datapoints. Then, select the first k datapoints based on the random permutation of the indices. This allows the datapoints to be selected at random without the risk of selecting the same datapoint twice.\n",
        "\n",
        "*Hint*: You may find the function `permutation()` in `numpy.random` useful, as documented [here](https://numpy.org/doc/stable/reference/random/generated/numpy.random.permutation.html)."
      ],
      "metadata": {
        "id": "Ku_CRyPmDdHY"
      }
    },
    {
      "cell_type": "code",
      "execution_count": null,
      "metadata": {
        "id": "0PGYHHsujsmG"
      },
      "outputs": [],
      "source": [
        "def kmeans_init_centers(X,k):\n",
        "  \"\"\"\n",
        "  This function initializes k centers that are to be used on the dataset X.\n",
        "  Each row of X is a single data point. k is an integer number.\n",
        "  Returns k initial centers in X\n",
        "  \"\"\"\n",
        "  X = np.copy(X)\n",
        "  centers = np.zeros((k, X.shape[1]))\n",
        "  #\n",
        "  ######################## YOUR CODE HERE #######################################\n",
        "  # Construct a random permutation of the datapoints and pick the first K items #                                              \n",
        "  ###############################################################################\n",
        "\n",
        "  ################################################################################\n",
        "  #             END OF YOUR CODE                                                 #\n",
        "  ################################################################################\n",
        "  return centers"
      ]
    },
    {
      "cell_type": "markdown",
      "source": [
        "## 2. K-means objective\n",
        "\n",
        "Next, we implement the objective cost of K-means, the **squared error distortion**. Given the cluster assigment of each datapoint and the center of each cluster, this function computes the squared error distortion. We give this function to you. Read to make sure you understand how to use it."
      ],
      "metadata": {
        "id": "OQgqc8XqFN3F"
      }
    },
    {
      "cell_type": "code",
      "source": [
        "def squared_error_distortion(X, labels, centers):\n",
        "  \"\"\"\n",
        "  This function computes the distortion of a certain clustering on dataset X.\n",
        "\n",
        "  X: a n x p matrix, where n is the number of datapoints and p is the number of features.\n",
        "  labels: a n x 1 vector indicating the cluster assignment of each datapoint. Each entry is in range [0,..,k-1].\n",
        "  centers: a k x p matrix, where the k-th row is the vector representing the center of cluster k.\n",
        "\n",
        "  Returns the distortion of this clustering.\n",
        "  \"\"\"\n",
        "  distortion = 0\n",
        "  n = X.shape[0]\n",
        "  for i in range(n):\n",
        "    distortion += np.linalg.norm(X[i] - centers[labels[i]]) ** 2\n",
        "  distortion = distortion / n\n",
        "  return distortion"
      ],
      "metadata": {
        "id": "LX9nCXoskEUC"
      },
      "execution_count": null,
      "outputs": []
    },
    {
      "cell_type": "markdown",
      "source": [
        "## 3. Running K-means\n",
        "\n",
        "Now we run the K-means algorithm to cluster the spots in the DLPFC slice $X$ into $k=7$ clusters. \n",
        "\n",
        "You do not need to implement the algorithm yourself. Instead, you will use `sklearn.cluster.KMeans()`, which is already imported above for you. The documentation of the method can be found at https://scikit-learn.org/stable/modules/generated/sklearn.cluster.KMeans.html. Run the algorihtm $1000$ times on $X$, each time initialized with a different set of $k$ random centers chosen by `kmeans_init_centers()`. Record the distortions of the resulting $1000$ outcomes using `squared_error_distortion()`, and keep track of the clustering that achieves the best distortion. Record the number of times you run the Lloyd algorithm before finding the run that scored highest among your $1000$ runs.\n",
        "\n",
        "Note: you must set `algorithm='lloyd'` and `n_init=1` when calling `KMeans()`. When `KMeans()` finishes, the `labels_` parameter stores the cluster assignment of each data point, and the `cluster_centers_` parameter stores the centers of each cluster."
      ],
      "metadata": {
        "id": "nYeXv3H5LCMf"
      }
    },
    {
      "cell_type": "code",
      "source": [
        "k = 7\n",
        "distortions = []\n",
        "best_cluster = None\n",
        "best_distortion = float('inf')\n",
        "######################## YOUR CODE HERE #######################################\n",
        "# Run the algorithm 1000 times, record the distortions and the best clustering#                                              \n",
        "###############################################################################\n",
        "\n",
        "################################################################################\n",
        "#             END OF YOUR CODE                                                 #\n",
        "################################################################################"
      ],
      "metadata": {
        "id": "QwhROTllm-du"
      },
      "execution_count": null,
      "outputs": []
    },
    {
      "cell_type": "markdown",
      "source": [
        "Construct a histogram of the squared error distortions of the resulting $1000$ outcomes with 50 bins. Documentation can be found at https://matplotlib.org/stable/api/_as_gen/matplotlib.pyplot.hist.html."
      ],
      "metadata": {
        "id": "sQZXxZm9Q0ho"
      }
    },
    {
      "cell_type": "code",
      "source": [
        "######################## YOUR CODE HERE #######################################\n",
        "#                Draw a histogram of the 1000 distortions                     #                                              \n",
        "###############################################################################\n",
        "\n",
        "################################################################################\n",
        "#             END OF YOUR CODE                                                 #\n",
        "################################################################################"
      ],
      "metadata": {
        "id": "IldMHGJF1efJ"
      },
      "execution_count": null,
      "outputs": []
    },
    {
      "cell_type": "markdown",
      "source": [
        "We provide the following code to visualize the best clustering obtained by your K-means algorithm."
      ],
      "metadata": {
        "id": "_Zh_GeI5ReMC"
      }
    },
    {
      "cell_type": "code",
      "source": [
        "layer_to_color_map = {i:sns.color_palette()[i] for i in range(7)}\n",
        "def plot_slice(spatial,clusters, figsize=None, color_map=layer_to_color_map, ax=None, s=100):\n",
        "    (min_x,min_y),(max_x,max_y) = spatial.min(axis=0),spatial.max(axis=0)\n",
        "    len_x,len_y=max_x-min_x,max_y-min_y\n",
        "    if not figsize: figsize=(10*(len_x/max(len_x,len_y)),10*(len_y/max(len_x,len_y)))\n",
        "    if not ax: plt.figure(figsize=figsize)\n",
        "    colors = [color_map[cluster] for cluster in clusters]\n",
        "    g = sns.scatterplot(x = spatial[:,0],y =spatial[:,1],linewidth=0,s=s, marker=\".\",c=colors,ax=ax)\n",
        "    if not ax: ax=g\n",
        "    if ax:\n",
        "        ax.invert_yaxis()\n",
        "        ax.axis('off')\n",
        "\n",
        "plot_slice(Z, best_cluster)"
      ],
      "metadata": {
        "id": "phcj1nBs7VBB"
      },
      "execution_count": null,
      "outputs": []
    }
  ]
}